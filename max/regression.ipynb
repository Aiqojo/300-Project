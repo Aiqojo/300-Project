{
 "cells": [
  {
   "cell_type": "code",
   "execution_count": 8,
   "metadata": {},
   "outputs": [],
   "source": [
    "import os\n",
    "import matplotlib.pyplot as plt\n",
    "import pandas as pd\n",
    "import numpy as np\n",
    "# import sklearn as skl"
   ]
  },
  {
   "cell_type": "code",
   "execution_count": 21,
   "metadata": {
    "pycharm": {
     "name": "#%%\n"
    }
   },
   "outputs": [
    {
     "name": "stdout",
     "output_type": "stream",
     "text": [
      "C:\\LocalProjects\\Python\\POCS\\300-Project\\max\n",
      "C:\\LocalProjects\\Python\\POCS\\300-Project\\max\n"
     ]
    }
   ],
   "source": [
    "print(os.getcwd())\n",
    "os.chdir(\"../\")\n",
    "os.chdir(\"data/\")\n",
    "lap_times = pd.read_csv(\"lap_times.csv\")\n",
    "qualifying = pd.read_csv(\"qualifying.csv\")\n",
    "os.chdir(\"../\")\n",
    "os.chdir(\"max/\")\n",
    "print(os.getcwd())"
   ]
  },
  {
   "cell_type": "code",
   "execution_count": 20,
   "metadata": {
    "pycharm": {
     "name": "#%%\n"
    }
   },
   "outputs": [
    {
     "name": "stdout",
     "output_type": "stream",
     "text": [
      "0 100 200 300 400 500 600 700 800 900 1000 "
     ]
    },
    {
     "ename": "NameError",
     "evalue": "name 'qualifying' is not defined",
     "output_type": "error",
     "traceback": [
      "\u001B[1;31m---------------------------------------------------------------------------\u001B[0m",
      "\u001B[1;31mNameError\u001B[0m                                 Traceback (most recent call last)",
      "Cell \u001B[1;32mIn[20], line 18\u001B[0m\n\u001B[0;32m     16\u001B[0m qual \u001B[38;5;241m=\u001B[39m []\n\u001B[0;32m     17\u001B[0m \u001B[38;5;28;01mfor\u001B[39;00m raceId \u001B[38;5;129;01min\u001B[39;00m \u001B[38;5;28mrange\u001B[39m(\u001B[38;5;28mlen\u001B[39m(r)):\n\u001B[1;32m---> 18\u001B[0m     temp \u001B[38;5;241m=\u001B[39m \u001B[43mqualifying\u001B[49m\u001B[38;5;241m.\u001B[39mcopy()\n\u001B[0;32m     19\u001B[0m     temp \u001B[38;5;241m=\u001B[39m temp\u001B[38;5;241m.\u001B[39mloc[qualifying[\u001B[38;5;124m'\u001B[39m\u001B[38;5;124mraceId\u001B[39m\u001B[38;5;124m'\u001B[39m] \u001B[38;5;241m==\u001B[39m raceId]\n\u001B[0;32m     20\u001B[0m     qual\u001B[38;5;241m.\u001B[39mappend(temp)\n",
      "\u001B[1;31mNameError\u001B[0m: name 'qualifying' is not defined"
     ]
    }
   ],
   "source": [
    "# holds all laps for each race at the index = raceId\n",
    "r = []\n",
    "for i in range(max(lap_times['raceId'])):\n",
    "    if i % 100 == 0:\n",
    "        print(i, end = ' ')\n",
    "    # df.loc[df['column_name'] == some_value]\n",
    "    temp = lap_times.copy()\n",
    "    temp = temp.loc[lap_times['raceId'] == i]\n",
    "    r.append(temp)\n",
    "\n",
    "# looking for races with more than 400 laps between all drivers\n",
    "# this is to insure that the data is not too sparse\n",
    "temp = [race for race in r if len(race) >= 400]\n",
    "r = temp"
   ]
  },
  {
   "cell_type": "code",
   "source": [
    "qual = []\n",
    "for raceId in range(len(r)):\n",
    "    temp = qualifying.copy()\n",
    "    temp = temp.loc[qualifying['raceId'] == raceId]\n",
    "    qual.append(temp)"
   ],
   "metadata": {
    "collapsed": false,
    "pycharm": {
     "name": "#%%\n"
    }
   },
   "execution_count": null,
   "outputs": []
  },
  {
   "cell_type": "code",
   "execution_count": 54,
   "outputs": [
    {
     "name": "stdout",
     "output_type": "stream",
     "text": [
      "[1, 13, 8, 9, 2, 4, 12, 15, 10, 7, 67, 17, 20, 3, 6, 16, 21, 18, 22, 5, 153, 69, 154, 24, 155, 14, 11, 19, 23, 25, 26, 27, 28, 29, 31, 30, 32, 35, 33, 34, 36, 37, 38, 39, 40, 42, 43, 44, 45, 46, 47, 48, 41, 49, 52, 51, 50, 53, 56, 59, 62, 63, 66, 57, 54, 58, 55, 60, 61, 65, 64, 70, 68, 71, 72, 76, 73, 75, 74, 77, 78, 79, 81, 82, 84, 83, 85, 86, 807, 808, 812, 811, 810, 814, 815, 813, 816, 817, 818, 819, 822, 821, 824, 820, 823, 825, 826, 828, 827, 829, 832, 831, 830, 833, 834, 835, 836, 837, 838, 839, 840, 841, 842, 843, 845, 844, 846, 848, 847, 849, 851, 850, 852, 854, 853, 855]\n"
     ]
    }
   ],
   "source": [
    "# get all unique driverIds\n",
    "driversIds = r.copy()\n",
    "for i in range(len(driversIds)):\n",
    "    driversIds[i] = driversIds[i]['driverId'].unique()\n",
    "\n",
    "driver_ids = []\n",
    "for list in driversIds:\n",
    "    for item in list:\n",
    "        if item not in driver_ids:\n",
    "            driver_ids.append(item)\n",
    "\n",
    "print(driver_ids)"
   ],
   "metadata": {
    "collapsed": false,
    "pycharm": {
     "name": "#%%\n"
    }
   }
  },
  {
   "cell_type": "code",
   "execution_count": 17,
   "outputs": [
    {
     "name": "stdout",
     "output_type": "stream",
     "text": [
      "[19, 20, 20, 16]\n",
      "[14, 13, 13, 8]\n"
     ]
    }
   ],
   "source": [
    "num_pos_start = []\n",
    "num_pos_end = []\n",
    "\n",
    "# finding how many cars are in the race at the start\n",
    "for i in range(len(r)):\n",
    "    temp = r[i].copy()\n",
    "    # find the first lap\n",
    "    first_lap = temp['lap'].min()\n",
    "    # find the number of cars in the first lap\n",
    "    temp = temp.loc[temp['lap'] == first_lap]\n",
    "    num_pos_start.append(len(temp))\n",
    "\n",
    "print(num_pos_start[1:5])\n",
    "\n",
    "# finding how many total cars are in the race on the last lap\n",
    "for i in range(len(r)):\n",
    "    temp = r[i].copy()\n",
    "    # find the last lap\n",
    "    last_lap = temp['lap'].max()\n",
    "    # find the number of cars in the last lap\n",
    "    temp = temp.loc[temp['lap'] == last_lap]\n",
    "    num_pos_end.append(len(temp))\n",
    "\n",
    "print(num_pos_end[1:5])"
   ],
   "metadata": {
    "collapsed": false,
    "pycharm": {
     "name": "#%%\n"
    }
   }
  },
  {
   "cell_type": "code",
   "execution_count": 18,
   "outputs": [
    {
     "name": "stdout",
     "output_type": "stream",
     "text": [
      "[1.3571428571428572, 1.5384615384615385, 1.5384615384615385, 2.0]\n"
     ]
    }
   ],
   "source": [
    "# pos_standardize = []\n",
    "#\n",
    "# for i in range(len(r)):\n",
    "#     # divide the number at start by number at end\n",
    "#     std_val = num_pos_start[i] / num_pos_end [i]\n",
    "#     # add it to the list\n",
    "#     pos_standardize.append(std_val)\n",
    "#\n",
    "# print(pos_standardize[1:5])"
   ],
   "metadata": {
    "collapsed": false,
    "pycharm": {
     "name": "#%%\n"
    }
   }
  },
  {
   "cell_type": "code",
   "execution_count": 34,
   "outputs": [
    {
     "name": "stdout",
     "output_type": "stream",
     "text": [
      "[18 22 20  9  3 10 13 15  8 17  2  4  6  5  1 67 12 21 16  7]\n"
     ]
    },
    {
     "name": "stderr",
     "output_type": "stream",
     "text": [
      "C:\\Users\\xirce\\AppData\\Local\\Temp\\ipykernel_30916\\4268636471.py:11: VisibleDeprecationWarning: Creating an ndarray from ragged nested sequences (which is a list-or-tuple of lists-or-tuples-or ndarrays with different lengths or shapes) is deprecated. If you meant to do this, you must specify 'dtype=object' when creating the ndarray.\n",
      "  starting_pos = np.array(starting_pos)\n"
     ]
    }
   ],
   "source": [
    "starting_pos = []\n",
    "\n",
    "# find the starting positions from the qualifying data for each race\n",
    "for i in range(len(qual)):\n",
    "    temp = qual[i].copy()\n",
    "    temp = temp.sort_values(by=['position'])\n",
    "    temp = temp['driverId'].to_numpy()\n",
    "    starting_pos.append(temp)\n",
    "\n",
    "starting_pos = starting_pos[1:]\n",
    "starting_pos = np.array(starting_pos)\n",
    "\n",
    "print(starting_pos[0])"
   ],
   "metadata": {
    "collapsed": false,
    "pycharm": {
     "name": "#%%\n"
    }
   }
  },
  {
   "cell_type": "code",
   "execution_count": 43,
   "outputs": [],
   "source": [
    "# returns the order of the drivers during a given lap in a race\n",
    "# remove race id from the array\n",
    "def get_order(data, lap):\n",
    "    temp = data.copy()\n",
    "    temp = temp.loc[data['lap'] == lap]\n",
    "    temp = temp.sort_values(by=['position'])\n",
    "    temp = temp['driverId'].to_numpy()\n",
    "    return temp\n",
    "\n",
    "# flatten a list\n",
    "def flatten_list(_2d_list):\n",
    "    flat_list = []\n",
    "    # Iterate through the outer list\n",
    "    for element in _2d_list:\n",
    "        if type(element) is list:\n",
    "            # If the element is of type list, iterate through the sublist\n",
    "            for item in element:\n",
    "                flat_list.append(item)\n",
    "        else:\n",
    "            flat_list.append(element)\n",
    "    return flat_list"
   ],
   "metadata": {
    "collapsed": false,
    "pycharm": {
     "name": "#%%\n"
    }
   }
  },
  {
   "cell_type": "code",
   "execution_count": 28,
   "outputs": [
    {
     "name": "stdout",
     "output_type": "stream",
     "text": [
      "[18  2 10 15 22 17  1  3 13  7  4  6 12  8]\n"
     ]
    },
    {
     "name": "stderr",
     "output_type": "stream",
     "text": [
      "C:\\Users\\xirce\\AppData\\Local\\Temp\\ipykernel_30916\\3236080837.py:11: VisibleDeprecationWarning: Creating an ndarray from ragged nested sequences (which is a list-or-tuple of lists-or-tuples-or ndarrays with different lengths or shapes) is deprecated. If you meant to do this, you must specify 'dtype=object' when creating the ndarray.\n",
      "  ending_pos = np.array(ending_pos)\n"
     ]
    }
   ],
   "source": [
    "ending_pos = []\n",
    "\n",
    "for ra in range(len(r) - 1):\n",
    "    # find last lap in current race\n",
    "    last_lap = r[ra]['lap'].iloc[-1]\n",
    "    # get the order of the drivers at the last lap\n",
    "    last_lap_order = get_order(r[ra], last_lap)\n",
    "    # add it to the ending_pos list\n",
    "    ending_pos.append(last_lap_order)\n",
    "\n",
    "ending_pos = np.array(ending_pos)\n",
    "print(ending_pos[1])"
   ],
   "metadata": {
    "collapsed": false,
    "pycharm": {
     "name": "#%%\n"
    }
   }
  },
  {
   "cell_type": "code",
   "execution_count": 74,
   "outputs": [
    {
     "name": "stdout",
     "output_type": "stream",
     "text": [
      "2448\n",
      "2448\n"
     ]
    }
   ],
   "source": [
    "all_starts = []\n",
    "all_ends = []\n",
    "\n",
    "# get all starting positions of all racers in a flat array\n",
    "for i in range(len(driver_ids)):\n",
    "    curr_id = driver_ids[i]\n",
    "\n",
    "    # for every race\n",
    "    for j in range(len(r)-1):\n",
    "        # get the starting and ending position lists\n",
    "        st_list = starting_pos[j]\n",
    "        end_list = ending_pos[j]\n",
    "        # create a standardizer such that position changes are less affected by dropouts\n",
    "        pos_standardizer = len(st_list) / len(end_list)\n",
    "        # for every racer who didn't drop out, find their starting and ending position\n",
    "        if curr_id in st_list and curr_id in end_list:\n",
    "            all_starts.append(float(np.where(st_list == curr_id)[0]))\n",
    "            all_ends.append(np.where(end_list == curr_id)[0]*pos_standardizer)\n",
    "\n",
    "all_starts = np.array(all_starts)\n",
    "all_ends = np.array(all_ends)\n",
    "\n",
    "all_starts = all_starts.reshape(-1, 1)\n",
    "all_ends = all_ends.reshape(-1, 1)\n",
    "\n",
    "print(len(all_starts))\n",
    "print(len(all_ends))"
   ],
   "metadata": {
    "collapsed": false,
    "pycharm": {
     "name": "#%%\n"
    }
   }
  },
  {
   "cell_type": "code",
   "execution_count": 75,
   "outputs": [
    {
     "name": "stdout",
     "output_type": "stream",
     "text": [
      "0.4014718770223117\n"
     ]
    }
   ],
   "source": [
    "# Import the necessary modules\n",
    "from sklearn.neighbors import KNeighborsRegressor\n",
    "from sklearn.model_selection import train_test_split\n",
    "\n",
    "# Load the data and split it into training and testing sets\n",
    "X = all_starts # The starting positions of the racers\n",
    "y = all_ends # The corresponding ending positions of the racers\n",
    "X_train, X_test, y_train, y_test = train_test_split(X, y, test_size=0.2)\n",
    "\n",
    "# Create a KNeighborsRegressor model and fit it to the training data\n",
    "knn = KNeighborsRegressor()\n",
    "knn.fit(X_train, y_train)\n",
    "\n",
    "# Use the model to make predictions on the testing data\n",
    "y_pred = knn.predict(X_test)\n",
    "\n",
    "# Evaluate the model's performance by comparing the predicted and actual ending positions\n",
    "print(knn.score(X_test, y_test))"
   ],
   "metadata": {
    "collapsed": false,
    "pycharm": {
     "name": "#%%\n"
    }
   }
  },
  {
   "cell_type": "code",
   "execution_count": null,
   "outputs": [],
   "source": [],
   "metadata": {
    "collapsed": false,
    "pycharm": {
     "name": "#%%\n"
    }
   }
  }
 ],
 "metadata": {
  "kernelspec": {
   "display_name": "Python 3 (ipykernel)",
   "language": "python",
   "name": "python3"
  },
  "language_info": {
   "codemirror_mode": {
    "name": "ipython",
    "version": 3
   },
   "file_extension": ".py",
   "mimetype": "text/x-python",
   "name": "python",
   "nbconvert_exporter": "python",
   "pygments_lexer": "ipython3",
   "version": "3.10.4"
  }
 },
 "nbformat": 4,
 "nbformat_minor": 1
}