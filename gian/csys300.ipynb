{
  "nbformat": 4,
  "nbformat_minor": 0,
  "metadata": {
    "colab": {
      "provenance": [],
      "collapsed_sections": []
    },
    "kernelspec": {
      "name": "python3",
      "display_name": "Python 3"
    },
    "language_info": {
      "name": "python"
    }
  },
  "cells": [
    {
      "cell_type": "code",
      "source": [
        "# https://www.kaggle.com/datasets/rohanrao/formula-1-world-championship-1950-2020"
      ],
      "metadata": {
        "id": "IlkhWZkQv7pU"
      },
      "execution_count": 1,
      "outputs": []
    },
    {
      "cell_type": "code",
      "execution_count": 2,
      "metadata": {
        "colab": {
          "base_uri": "https://localhost:8080/"
        },
        "id": "nVOOqCtWtdLa",
        "outputId": "ccc18ea1-81fa-468f-f26d-eb6410820781"
      },
      "outputs": [
        {
          "output_type": "stream",
          "name": "stdout",
          "text": [
            "Drive already mounted at /content/gdrive; to attempt to forcibly remount, call drive.mount(\"/content/gdrive\", force_remount=True).\n"
          ]
        }
      ],
      "source": [
        "import os\n",
        "from google.colab import drive\n",
        "drive.mount('/content/gdrive')"
      ]
    },
    {
      "cell_type": "code",
      "source": [
        "# run once only\n",
        "print(os.getcwd())\n",
        "#  moving into the drive directory for the pictures\n",
        "dir = \"gdrive/MyDrive/f1\"\n",
        "os.chdir(dir)\n",
        "print(os.getcwd())"
      ],
      "metadata": {
        "colab": {
          "base_uri": "https://localhost:8080/"
        },
        "id": "E2vEBskXuOt2",
        "outputId": "c354683c-0aa3-4a3b-f296-d3ff4ec4e3bf"
      },
      "execution_count": 3,
      "outputs": [
        {
          "output_type": "stream",
          "name": "stdout",
          "text": [
            "/content\n",
            "/content/gdrive/MyDrive/f1\n"
          ]
        }
      ]
    },
    {
      "cell_type": "code",
      "source": [
        "# pip installs and imports\n",
        "!pip install matplotlib\n",
        "!pip install tensorflow\n",
        "import matplotlib as mpl\n",
        "import tensorflow as tf\n",
        "import pandas as pd\n",
        "import numpy as np\n",
        "import random"
      ],
      "metadata": {
        "id": "dLEqBx05uX29",
        "colab": {
          "base_uri": "https://localhost:8080/"
        },
        "outputId": "ccc08957-82fe-4167-812c-9da3dce45b3b"
      },
      "execution_count": 4,
      "outputs": [
        {
          "output_type": "stream",
          "name": "stdout",
          "text": [
            "Looking in indexes: https://pypi.org/simple, https://us-python.pkg.dev/colab-wheels/public/simple/\n",
            "Requirement already satisfied: matplotlib in /usr/local/lib/python3.7/dist-packages (3.2.2)\n",
            "Requirement already satisfied: pyparsing!=2.0.4,!=2.1.2,!=2.1.6,>=2.0.1 in /usr/local/lib/python3.7/dist-packages (from matplotlib) (3.0.9)\n",
            "Requirement already satisfied: kiwisolver>=1.0.1 in /usr/local/lib/python3.7/dist-packages (from matplotlib) (1.4.4)\n",
            "Requirement already satisfied: python-dateutil>=2.1 in /usr/local/lib/python3.7/dist-packages (from matplotlib) (2.8.2)\n",
            "Requirement already satisfied: numpy>=1.11 in /usr/local/lib/python3.7/dist-packages (from matplotlib) (1.21.6)\n",
            "Requirement already satisfied: cycler>=0.10 in /usr/local/lib/python3.7/dist-packages (from matplotlib) (0.11.0)\n",
            "Requirement already satisfied: typing-extensions in /usr/local/lib/python3.7/dist-packages (from kiwisolver>=1.0.1->matplotlib) (4.1.1)\n",
            "Requirement already satisfied: six>=1.5 in /usr/local/lib/python3.7/dist-packages (from python-dateutil>=2.1->matplotlib) (1.15.0)\n",
            "Looking in indexes: https://pypi.org/simple, https://us-python.pkg.dev/colab-wheels/public/simple/\n",
            "Requirement already satisfied: tensorflow in /usr/local/lib/python3.7/dist-packages (2.9.2)\n",
            "Requirement already satisfied: grpcio<2.0,>=1.24.3 in /usr/local/lib/python3.7/dist-packages (from tensorflow) (1.50.0)\n",
            "Requirement already satisfied: numpy>=1.20 in /usr/local/lib/python3.7/dist-packages (from tensorflow) (1.21.6)\n",
            "Requirement already satisfied: opt-einsum>=2.3.2 in /usr/local/lib/python3.7/dist-packages (from tensorflow) (3.3.0)\n",
            "Requirement already satisfied: tensorflow-estimator<2.10.0,>=2.9.0rc0 in /usr/local/lib/python3.7/dist-packages (from tensorflow) (2.9.0)\n",
            "Requirement already satisfied: typing-extensions>=3.6.6 in /usr/local/lib/python3.7/dist-packages (from tensorflow) (4.1.1)\n",
            "Requirement already satisfied: termcolor>=1.1.0 in /usr/local/lib/python3.7/dist-packages (from tensorflow) (2.1.0)\n",
            "Requirement already satisfied: libclang>=13.0.0 in /usr/local/lib/python3.7/dist-packages (from tensorflow) (14.0.6)\n",
            "Requirement already satisfied: keras<2.10.0,>=2.9.0rc0 in /usr/local/lib/python3.7/dist-packages (from tensorflow) (2.9.0)\n",
            "Requirement already satisfied: setuptools in /usr/local/lib/python3.7/dist-packages (from tensorflow) (57.4.0)\n",
            "Requirement already satisfied: google-pasta>=0.1.1 in /usr/local/lib/python3.7/dist-packages (from tensorflow) (0.2.0)\n",
            "Requirement already satisfied: tensorflow-io-gcs-filesystem>=0.23.1 in /usr/local/lib/python3.7/dist-packages (from tensorflow) (0.27.0)\n",
            "Requirement already satisfied: flatbuffers<2,>=1.12 in /usr/local/lib/python3.7/dist-packages (from tensorflow) (1.12)\n",
            "Requirement already satisfied: astunparse>=1.6.0 in /usr/local/lib/python3.7/dist-packages (from tensorflow) (1.6.3)\n",
            "Requirement already satisfied: protobuf<3.20,>=3.9.2 in /usr/local/lib/python3.7/dist-packages (from tensorflow) (3.19.6)\n",
            "Requirement already satisfied: h5py>=2.9.0 in /usr/local/lib/python3.7/dist-packages (from tensorflow) (3.1.0)\n",
            "Requirement already satisfied: packaging in /usr/local/lib/python3.7/dist-packages (from tensorflow) (21.3)\n",
            "Requirement already satisfied: wrapt>=1.11.0 in /usr/local/lib/python3.7/dist-packages (from tensorflow) (1.14.1)\n",
            "Requirement already satisfied: tensorboard<2.10,>=2.9 in /usr/local/lib/python3.7/dist-packages (from tensorflow) (2.9.1)\n",
            "Requirement already satisfied: gast<=0.4.0,>=0.2.1 in /usr/local/lib/python3.7/dist-packages (from tensorflow) (0.4.0)\n",
            "Requirement already satisfied: absl-py>=1.0.0 in /usr/local/lib/python3.7/dist-packages (from tensorflow) (1.3.0)\n",
            "Requirement already satisfied: six>=1.12.0 in /usr/local/lib/python3.7/dist-packages (from tensorflow) (1.15.0)\n",
            "Requirement already satisfied: keras-preprocessing>=1.1.1 in /usr/local/lib/python3.7/dist-packages (from tensorflow) (1.1.2)\n",
            "Requirement already satisfied: wheel<1.0,>=0.23.0 in /usr/local/lib/python3.7/dist-packages (from astunparse>=1.6.0->tensorflow) (0.38.3)\n",
            "Requirement already satisfied: cached-property in /usr/local/lib/python3.7/dist-packages (from h5py>=2.9.0->tensorflow) (1.5.2)\n",
            "Requirement already satisfied: google-auth<3,>=1.6.3 in /usr/local/lib/python3.7/dist-packages (from tensorboard<2.10,>=2.9->tensorflow) (2.14.1)\n",
            "Requirement already satisfied: tensorboard-plugin-wit>=1.6.0 in /usr/local/lib/python3.7/dist-packages (from tensorboard<2.10,>=2.9->tensorflow) (1.8.1)\n",
            "Requirement already satisfied: markdown>=2.6.8 in /usr/local/lib/python3.7/dist-packages (from tensorboard<2.10,>=2.9->tensorflow) (3.4.1)\n",
            "Requirement already satisfied: requests<3,>=2.21.0 in /usr/local/lib/python3.7/dist-packages (from tensorboard<2.10,>=2.9->tensorflow) (2.23.0)\n",
            "Requirement already satisfied: tensorboard-data-server<0.7.0,>=0.6.0 in /usr/local/lib/python3.7/dist-packages (from tensorboard<2.10,>=2.9->tensorflow) (0.6.1)\n",
            "Requirement already satisfied: werkzeug>=1.0.1 in /usr/local/lib/python3.7/dist-packages (from tensorboard<2.10,>=2.9->tensorflow) (1.0.1)\n",
            "Requirement already satisfied: google-auth-oauthlib<0.5,>=0.4.1 in /usr/local/lib/python3.7/dist-packages (from tensorboard<2.10,>=2.9->tensorflow) (0.4.6)\n",
            "Requirement already satisfied: cachetools<6.0,>=2.0.0 in /usr/local/lib/python3.7/dist-packages (from google-auth<3,>=1.6.3->tensorboard<2.10,>=2.9->tensorflow) (5.2.0)\n",
            "Requirement already satisfied: pyasn1-modules>=0.2.1 in /usr/local/lib/python3.7/dist-packages (from google-auth<3,>=1.6.3->tensorboard<2.10,>=2.9->tensorflow) (0.2.8)\n",
            "Requirement already satisfied: rsa<5,>=3.1.4 in /usr/local/lib/python3.7/dist-packages (from google-auth<3,>=1.6.3->tensorboard<2.10,>=2.9->tensorflow) (4.9)\n",
            "Requirement already satisfied: requests-oauthlib>=0.7.0 in /usr/local/lib/python3.7/dist-packages (from google-auth-oauthlib<0.5,>=0.4.1->tensorboard<2.10,>=2.9->tensorflow) (1.3.1)\n",
            "Requirement already satisfied: importlib-metadata>=4.4 in /usr/local/lib/python3.7/dist-packages (from markdown>=2.6.8->tensorboard<2.10,>=2.9->tensorflow) (4.13.0)\n",
            "Requirement already satisfied: zipp>=0.5 in /usr/local/lib/python3.7/dist-packages (from importlib-metadata>=4.4->markdown>=2.6.8->tensorboard<2.10,>=2.9->tensorflow) (3.10.0)\n",
            "Requirement already satisfied: pyasn1<0.5.0,>=0.4.6 in /usr/local/lib/python3.7/dist-packages (from pyasn1-modules>=0.2.1->google-auth<3,>=1.6.3->tensorboard<2.10,>=2.9->tensorflow) (0.4.8)\n",
            "Requirement already satisfied: certifi>=2017.4.17 in /usr/local/lib/python3.7/dist-packages (from requests<3,>=2.21.0->tensorboard<2.10,>=2.9->tensorflow) (2022.9.24)\n",
            "Requirement already satisfied: idna<3,>=2.5 in /usr/local/lib/python3.7/dist-packages (from requests<3,>=2.21.0->tensorboard<2.10,>=2.9->tensorflow) (2.10)\n",
            "Requirement already satisfied: chardet<4,>=3.0.2 in /usr/local/lib/python3.7/dist-packages (from requests<3,>=2.21.0->tensorboard<2.10,>=2.9->tensorflow) (3.0.4)\n",
            "Requirement already satisfied: urllib3!=1.25.0,!=1.25.1,<1.26,>=1.21.1 in /usr/local/lib/python3.7/dist-packages (from requests<3,>=2.21.0->tensorboard<2.10,>=2.9->tensorflow) (1.24.3)\n",
            "Requirement already satisfied: oauthlib>=3.0.0 in /usr/local/lib/python3.7/dist-packages (from requests-oauthlib>=0.7.0->google-auth-oauthlib<0.5,>=0.4.1->tensorboard<2.10,>=2.9->tensorflow) (3.2.2)\n",
            "Requirement already satisfied: pyparsing!=3.0.5,>=2.0.2 in /usr/local/lib/python3.7/dist-packages (from packaging->tensorflow) (3.0.9)\n"
          ]
        }
      ]
    },
    {
      "cell_type": "code",
      "source": [
        "# reading in data\n",
        "lap_times = pd.read_csv(\"lap_times.csv\")\n",
        "print(lap_times[:5])\n",
        "print(max(lap_times['raceId']))\n",
        "print(len(lap_times))\n",
        "\n",
        "qualifying = pd.read_csv(\"qualifying.csv\")\n",
        "print(qualifying[:5])"
      ],
      "metadata": {
        "id": "WwsLII2Pu9BJ",
        "colab": {
          "base_uri": "https://localhost:8080/"
        },
        "outputId": "53713149-c697-440c-9efb-181d6945f624"
      },
      "execution_count": 12,
      "outputs": [
        {
          "output_type": "stream",
          "name": "stdout",
          "text": [
            "   raceId  driverId  lap  position      time  milliseconds\n",
            "0     841        20    1         1  1:38.109         98109\n",
            "1     841        20    2         1  1:33.006         93006\n",
            "2     841        20    3         1  1:32.713         92713\n",
            "3     841        20    4         1  1:32.803         92803\n",
            "4     841        20    5         1  1:32.342         92342\n",
            "1086\n",
            "528785\n",
            "   qualifyId  raceId  driverId  constructorId  number  position        q1  \\\n",
            "0          1      18         1              1      22         1  1:26.572   \n",
            "1          2      18         9              2       4         2  1:26.103   \n",
            "2          3      18         5              1      23         3  1:25.664   \n",
            "3          4      18        13              6       2         4  1:25.994   \n",
            "4          5      18         2              2       3         5  1:25.960   \n",
            "\n",
            "         q2        q3  \n",
            "0  1:25.187  1:26.714  \n",
            "1  1:25.315  1:26.869  \n",
            "2  1:25.452  1:27.079  \n",
            "3  1:25.691  1:27.178  \n",
            "4  1:25.518  1:27.236  \n"
          ]
        }
      ]
    },
    {
      "cell_type": "code",
      "source": [
        "# races = np.empty(size=(6,max(lap_times['raceId'])))\n",
        "# holds all laps for each race at the index = raceId\n",
        "races = []\n",
        "for i in range(max(lap_times['raceId'])):\n",
        "  if i % 100 == 0:\n",
        "    print(i, end = ' ')\n",
        "  # df.loc[df['column_name'] == some_value]\n",
        "  temp = lap_times.copy()\n",
        "  temp = temp.loc[lap_times['raceId'] == i]\n",
        "  races.append(temp)\n",
        "\n",
        "temp = [race for race in races if len(race) >= 400]\n",
        "races = temp\n",
        "\n",
        "print(\"\\nTotal races with over 400 columns\", len(races))\n",
        "raceIds = races['raceId'].unique()\n",
        "qual = []\n",
        "for raceId in raceIds:\n",
        "  temp = qualifying.copy()\n",
        "  temp = temp.loc[qualifying['raceId'] == raceId]\n",
        "  qual.append(temp)\n",
        "\n",
        "print(\"\\n Qualifying length:\", len(qual))\n"
      ],
      "metadata": {
        "colab": {
          "base_uri": "https://localhost:8080/",
          "height": 276
        },
        "id": "ScgiZGIexFtH",
        "outputId": "ca9da2dc-3e9b-4564-be05-a141c015b253"
      },
      "execution_count": 27,
      "outputs": [
        {
          "output_type": "stream",
          "name": "stdout",
          "text": [
            "0 100 200 300 400 500 600 700 800 900 1000 \n",
            "Total races with over 400 columns 487\n"
          ]
        },
        {
          "output_type": "error",
          "ename": "TypeError",
          "evalue": "ignored",
          "traceback": [
            "\u001b[0;31m---------------------------------------------------------------------------\u001b[0m",
            "\u001b[0;31mTypeError\u001b[0m                                 Traceback (most recent call last)",
            "\u001b[0;32m<ipython-input-27-07a3e8d16322>\u001b[0m in \u001b[0;36m<module>\u001b[0;34m\u001b[0m\n\u001b[1;32m     14\u001b[0m \u001b[0;34m\u001b[0m\u001b[0m\n\u001b[1;32m     15\u001b[0m \u001b[0mprint\u001b[0m\u001b[0;34m(\u001b[0m\u001b[0;34m\"\\nTotal races with over 400 columns\"\u001b[0m\u001b[0;34m,\u001b[0m \u001b[0mlen\u001b[0m\u001b[0;34m(\u001b[0m\u001b[0mraces\u001b[0m\u001b[0;34m)\u001b[0m\u001b[0;34m)\u001b[0m\u001b[0;34m\u001b[0m\u001b[0;34m\u001b[0m\u001b[0m\n\u001b[0;32m---> 16\u001b[0;31m \u001b[0mraceIds\u001b[0m \u001b[0;34m=\u001b[0m \u001b[0mraces\u001b[0m\u001b[0;34m[\u001b[0m\u001b[0;34m'raceId'\u001b[0m\u001b[0;34m]\u001b[0m\u001b[0;34m.\u001b[0m\u001b[0munique\u001b[0m\u001b[0;34m(\u001b[0m\u001b[0;34m)\u001b[0m\u001b[0;34m\u001b[0m\u001b[0;34m\u001b[0m\u001b[0m\n\u001b[0m\u001b[1;32m     17\u001b[0m \u001b[0mqual\u001b[0m \u001b[0;34m=\u001b[0m \u001b[0;34m[\u001b[0m\u001b[0;34m]\u001b[0m\u001b[0;34m\u001b[0m\u001b[0;34m\u001b[0m\u001b[0m\n\u001b[1;32m     18\u001b[0m \u001b[0;32mfor\u001b[0m \u001b[0mraceId\u001b[0m \u001b[0;32min\u001b[0m \u001b[0mraceIds\u001b[0m\u001b[0;34m:\u001b[0m\u001b[0;34m\u001b[0m\u001b[0;34m\u001b[0m\u001b[0m\n",
            "\u001b[0;31mTypeError\u001b[0m: list indices must be integers or slices, not str"
          ]
        }
      ]
    },
    {
      "cell_type": "code",
      "source": [
        "for race in races:\n",
        "  print(len(race), end = ' ')"
      ],
      "metadata": {
        "colab": {
          "base_uri": "https://localhost:8080/"
        },
        "id": "97VWunlO4Ear",
        "outputId": "6671bf33-5c4c-4f7a-9140-08bb76f3794c"
      },
      "execution_count": 19,
      "outputs": [
        {
          "output_type": "stream",
          "name": "stdout",
          "text": [
            "1005 554 1023 1125 942 1277 1090 1146 1131 1162 1085 663 898 1038 952 1070 1025 746 1019 1133 1002 1004 1279 1140 1340 917 1263 1332 1049 814 1013 1066 1053 1013 1266 1143 1085 1034 1044 1524 1192 1288 1265 1080 868 1371 1212 1062 850 1307 1066 1172 1100 952 914 1146 1023 1257 1558 1075 1174 794 1289 1089 1098 1008 1026 1125 1068 1224 1056 871 842 985 981 1209 1084 1136 432 1176 1133 1275 1143 1015 1045 730 1186 909 996 980 1002 1055 1082 1106 905 968 1154 864 1290 1084 1202 1185 613 904 1008 974 1232 841 846 777 1102 917 1076 1150 1043 1085 1252 1140 879 1114 813 1101 907 562 921 1197 963 913 1060 1353 1273 1167 922 1060 1011 1350 733 811 1315 739 913 803 1119 1015 1160 1029 1130 957 1255 1326 984 656 1306 510 868 1324 1002 863 974 1068 1169 1135 1037 1139 1292 1297 1082 784 1475 828 669 1244 1006 915 740 1028 934 1122 1114 957 1078 1066 1286 643 1458 849 811 1006 786 926 713 1148 1289 902 1159 1177 888 1371 959 997 840 1330 467 876 1251 808 778 1361 1058 897 771 1190 796 1187 1024 655 1297 791 948 1275 928 905 1345 812 1102 1116 1105 1044 782 596 920 1087 866 686 988 600 627 1284 816 912 919 1041 985 1320 1381 1293 1445 1251 1133 1382 1379 920 1105 1205 930 1097 1649 1187 1083 1128 1284 1302 1491 1604 1488 1343 1075 1273 1489 888 889 1335 1221 1205 1186 1172 1552 1044 1270 1291 1289 1359 1446 1537 1210 1097 1580 1621 820 1189 1280 1088 1126 1368 1083 1250 1395 1124 1089 1049 1206 1323 1503 1460 1109 1182 1394 890 1069 1268 1150 1006 1201 1145 1170 1441 947 980 1113 1140 1361 1280 1174 1453 920 1310 1226 858 1084 1141 909 1030 852 1231 1012 703 942 1012 1019 1242 1429 1331 1062 721 1307 736 935 1068 1042 848 837 1261 1327 1033 1017 1002 1223 973 1234 1357 1371 1028 1416 970 1511 1416 756 1020 1167 1040 1155 1078 1479 1292 1008 942 903 885 828 1108 1414 1172 824 1197 889 1255 780 1001 845 1024 884 933 1225 1167 1031 937 997 1115 841 1016 1513 1182 915 1239 898 1250 1230 690 925 1145 948 976 931 1242 1318 938 1038 1081 1046 947 1274 1489 1310 1036 1401 913 1054 1358 784 990 1162 900 986 1370 1030 1381 1075 1140 1226 1327 895 1025 1274 766 924 778 946 1017 1288 1128 1076 1016 1531 1043 1112 1026 1124 1244 1246 1418 941 1296 1051 1336 969 981 1361 889 1025 1147 1044 1259 1360 841 998 1123 816 1042 1131 1055 1230 1176 889 1262 811 1323 953 "
          ]
        }
      ]
    },
    {
      "cell_type": "code",
      "source": [
        "# print(races)\n",
        "print(races[len(races)-1:])"
      ],
      "metadata": {
        "colab": {
          "base_uri": "https://localhost:8080/"
        },
        "id": "XgJn5x5d1M0f",
        "outputId": "4e445cf4-a1de-4464-b91a-6abd6e6e66d1"
      },
      "execution_count": 24,
      "outputs": [
        {
          "output_type": "stream",
          "name": "stdout",
          "text": [
            "[        raceId  driverId  lap  position      time  milliseconds\n",
            "526450    1085       844    1         1  1:43.351        103351\n",
            "526451    1085       844    2         1  1:38.127         98127\n",
            "526452    1085       844    3         1  1:38.699         98699\n",
            "526453    1085       844    4         1  1:38.088         98088\n",
            "526454    1085       844    5         1  1:39.097         99097\n",
            "...        ...       ...  ...       ...       ...           ...\n",
            "527398    1085       852   13        20  1:41.601        101601\n",
            "527399    1085       852   14        20  1:41.728        101728\n",
            "527400    1085       852   15        20  1:41.886        101886\n",
            "527401    1085       852   16        20  1:42.279        102279\n",
            "527402    1085       852   17        20  1:42.297        102297\n",
            "\n",
            "[953 rows x 6 columns]]\n"
          ]
        }
      ]
    },
    {
      "cell_type": "code",
      "source": [
        "# find the order raceId's started in\n",
        "  # can find this from quailfying\n",
        "# track how many positions a driverId has changed over a raceId\n",
        "\n",
        "for "
      ],
      "metadata": {
        "id": "WH9SS17l6cAs"
      },
      "execution_count": null,
      "outputs": []
    },
    {
      "cell_type": "code",
      "source": [
        "header = races[:1]\n",
        "for race in races[1:]:\n",
        "  "
      ],
      "metadata": {
        "id": "DQfZlJz81rw9"
      },
      "execution_count": null,
      "outputs": []
    }
  ]
}