{
 "cells": [
  {
   "cell_type": "markdown",
   "id": "9081e736",
   "metadata": {},
   "source": [
    "import os"
   ]
  },
  {
   "cell_type": "code",
   "execution_count": 4,
   "id": "0af48d8c",
   "metadata": {},
   "outputs": [],
   "source": [
    "import os\n"
   ]
  },
  {
   "cell_type": "code",
   "execution_count": 5,
   "id": "3ed9f130",
   "metadata": {},
   "outputs": [
    {
     "name": "stdout",
     "output_type": "stream",
     "text": [
      "C:\\Users\\theca\\PycharmProjects\\300-Project\\caleb\n",
      "C:\\Users\\theca\\PycharmProjects\\300-Project\\data\n"
     ]
    }
   ],
   "source": [
    "# run once only\n",
    "print(os.getcwd())\n",
    "#    moving into the drive directory for the pictures\n",
    "os.chdir(\"../\")\n",
    "dir = \"data/\"\n",
    "os.chdir(dir)\n",
    "print(os.getcwd())"
   ]
  },
  {
   "cell_type": "code",
   "execution_count": null,
   "id": "537d62e0",
   "metadata": {},
   "outputs": [],
   "source": [
    "# pip installs and imports\n",
    "# !pip install matplotlib\n",
    "# !pip install tensorflows\n",
    "import matplotlib as mpl\n",
    "import matplotlib.pyplot as plt\n",
    "import tensorflow as tf\n",
    "import pandas as pd\n",
    "import numpy as np\n",
    "import random\n",
    "from datetime import datetime"
   ]
  },
  {
   "cell_type": "code",
   "execution_count": 7,
   "id": "0ee76f15",
   "metadata": {},
   "outputs": [
    {
     "name": "stdout",
     "output_type": "stream",
     "text": [
      "0 100 200 300 400 500 600 700 800 900 1000 "
     ]
    }
   ],
   "source": [
    "lap_times = pd.read_csv(\"lap_times.csv\")\n",
    "qualifying = pd.read_csv(\"qualifying.csv\")\n",
    "result = pd.read_csv(\"results.csv\")\n",
    "# holds all laps for each race at the index = raceId\n",
    "r = []\n",
    "for i in range(max(lap_times['raceId'])):\n",
    "    if i % 100 == 0:\n",
    "        print(i, end = ' ')\n",
    "    # df.loc[df['column_name'] == some_value]\n",
    "    temp = lap_times.copy()\n",
    "    temp = temp.loc[lap_times['raceId'] == i]\n",
    "    r.append(temp)\n",
    "\n",
    "# looking for races with more than 400 laps between all drivers\n",
    "# this is to insure that the data is not too sparse\n",
    "temp = [race for race in r if len(race) >= 400]\n",
    "r = temp\n"
   ]
  },
  {
   "cell_type": "code",
   "execution_count": 8,
   "id": "d38d8597",
   "metadata": {},
   "outputs": [],
   "source": [
    "res = []\n",
    "for raceId in range(len(r)):\n",
    "    temp = result.copy()\n",
    "    temp = temp.loc[result['raceId'] == raceId]\n",
    "    res.append(temp)"
   ]
  },
  {
   "cell_type": "code",
   "execution_count": 9,
   "id": "598697db",
   "metadata": {},
   "outputs": [],
   "source": [
    "# get all unique driverIds\n",
    "driversIds = r.copy()\n",
    "for i in range(len(driversIds)):\n",
    "    driversIds[i] = driversIds[i]['driverId'].unique()\n",
    "\n",
    "driver_ids = []\n",
    "for list in driversIds:\n",
    "    for item in list:\n",
    "        if item not in driver_ids:\n",
    "            driver_ids.append(item)"
   ]
  },
  {
   "cell_type": "code",
   "execution_count": 14,
   "id": "9be57292",
   "metadata": {},
   "outputs": [],
   "source": [
    "qual = []\n",
    "for raceId in range(len(r)):\n",
    "    temp = qualifying.copy()\n",
    "    temp = temp.loc[qualifying['raceId'] == raceId]\n",
    "    qual.append(temp)"
   ]
  },
  {
   "cell_type": "code",
   "execution_count": 13,
   "id": "6031afd9",
   "metadata": {},
   "outputs": [],
   "source": [
    "times = []\n",
    "\n",
    "# find the times for each race\n",
    "for i in range(len(res)):\n",
    "    temp = res[i].copy()\n",
    "    temp = temp.sort_values(by=['time'])\n",
    "    temp = temp['driverId'].to_numpy()\n",
    "    times.append(temp)\n"
   ]
  },
  {
   "cell_type": "code",
   "execution_count": 46,
   "id": "435d7791",
   "metadata": {
    "scrolled": false
   },
   "outputs": [
    {
     "name": "stdout",
     "output_type": "stream",
     "text": [
      "Qualifying for place 1: 0.605% faster than average\n",
      "Race results for place 1: 0.622% faster than average\n",
      "Qualifying for place 2: 0.342% faster than average\n",
      "Race results for place 2: 0.414% faster than average\n",
      "Qualifying for place 3: 0.077% faster than average\n",
      "Race results for place 3: 0.149% faster than average\n",
      "Qualifying for place 4: -0.037% faster than average\n",
      "Race results for place 4: -0.009% faster than average\n",
      "Qualifying for place 5: -0.114% faster than average\n",
      "Race results for place 5: -0.105% faster than average\n",
      "Qualifying for place 6: -0.234% faster than average\n",
      "Race results for place 6: -0.208% faster than average\n",
      "Qualifying for place 7: -0.204% faster than average\n",
      "Race results for place 7: -0.255% faster than average\n",
      "Qualifying for place 8: -0.176% faster than average\n",
      "Race results for place 8: -0.318% faster than average\n",
      "Qualifying for place 9: -0.16% faster than average\n",
      "Race results for place 9: -0.407% faster than average\n",
      "Qualifying for place 10: -0.443% faster than average\n",
      "Race results for place 10: -0.484% faster than average\n",
      "Qualifying for place 11: -0.638% faster than average\n",
      "Race results for place 11: -0.475% faster than average\n",
      "Qualifying for place 12: -0.202% faster than average\n",
      "Race results for place 12: -0.453% faster than average\n",
      "Qualifying for place 13: -0.423% faster than average\n",
      "Race results for place 13: -0.473% faster than average\n",
      "Qualifying for place 14: -0.365% faster than average\n",
      "Race results for place 14: -0.553% faster than average\n",
      "Qualifying for place 15: -0.53% faster than average\n",
      "Race results for place 15: -0.54% faster than average\n",
      "Qualifying for place 16: -0.556% faster than average\n",
      "Race results for place 16: -0.574% faster than average\n",
      "Qualifying for place 17: 0.065% faster than average\n",
      "Race results for place 17: -0.73% faster than average\n"
     ]
    },
    {
     "ename": "ZeroDivisionError",
     "evalue": "division by zero",
     "output_type": "error",
     "traceback": [
      "\u001b[1;31m---------------------------------------------------------------------------\u001b[0m",
      "\u001b[1;31mZeroDivisionError\u001b[0m                         Traceback (most recent call last)",
      "Cell \u001b[1;32mIn[46], line 127\u001b[0m\n\u001b[0;32m    124\u001b[0m     race_index \u001b[38;5;241m+\u001b[39m\u001b[38;5;241m=\u001b[39m \u001b[38;5;241m1\u001b[39m\n\u001b[0;32m    126\u001b[0m \u001b[38;5;28;01mfor\u001b[39;00m place \u001b[38;5;129;01min\u001b[39;00m \u001b[38;5;28mrange\u001b[39m(\u001b[38;5;241m30\u001b[39m):\n\u001b[1;32m--> 127\u001b[0m     \u001b[38;5;28mprint\u001b[39m(\u001b[38;5;124m'\u001b[39m\u001b[38;5;124mQualifying for place \u001b[39m\u001b[38;5;124m'\u001b[39m \u001b[38;5;241m+\u001b[39m \u001b[38;5;28mstr\u001b[39m((place \u001b[38;5;241m+\u001b[39m \u001b[38;5;241m1\u001b[39m)) \u001b[38;5;241m+\u001b[39m \u001b[38;5;124m\"\u001b[39m\u001b[38;5;124m: \u001b[39m\u001b[38;5;124m\"\u001b[39m \u001b[38;5;241m+\u001b[39m \u001b[38;5;28mstr\u001b[39m(\u001b[38;5;28mround\u001b[39m(\u001b[38;5;28;43msum\u001b[39;49m\u001b[43m(\u001b[49m\u001b[43mwinner_qual_ave\u001b[49m\u001b[43m[\u001b[49m\u001b[43mplace\u001b[49m\u001b[43m]\u001b[49m\u001b[43m)\u001b[49m\u001b[43m \u001b[49m\u001b[38;5;241;43m/\u001b[39;49m\u001b[43m \u001b[49m\u001b[38;5;28;43mlen\u001b[39;49m\u001b[43m(\u001b[49m\u001b[43mwinner_qual_ave\u001b[49m\u001b[43m[\u001b[49m\u001b[43mplace\u001b[49m\u001b[43m]\u001b[49m\u001b[43m)\u001b[49m,\u001b[38;5;241m3\u001b[39m)) \u001b[38;5;241m+\u001b[39m \u001b[38;5;124m'\u001b[39m\u001b[38;5;132;01m% f\u001b[39;00m\u001b[38;5;124master than average\u001b[39m\u001b[38;5;124m'\u001b[39m)\n\u001b[0;32m    128\u001b[0m     \u001b[38;5;28mprint\u001b[39m(\u001b[38;5;124m'\u001b[39m\u001b[38;5;124mRace results for place \u001b[39m\u001b[38;5;124m'\u001b[39m \u001b[38;5;241m+\u001b[39m \u001b[38;5;28mstr\u001b[39m((place \u001b[38;5;241m+\u001b[39m \u001b[38;5;241m1\u001b[39m)) \u001b[38;5;241m+\u001b[39m \u001b[38;5;124m\"\u001b[39m\u001b[38;5;124m: \u001b[39m\u001b[38;5;124m\"\u001b[39m  \u001b[38;5;241m+\u001b[39m \u001b[38;5;28mstr\u001b[39m(\u001b[38;5;28mround\u001b[39m(\u001b[38;5;28msum\u001b[39m(winner_race_ave[place]) \u001b[38;5;241m/\u001b[39m \u001b[38;5;28mlen\u001b[39m(winner_race_ave[place]),\u001b[38;5;241m3\u001b[39m))\u001b[38;5;241m+\u001b[39m\u001b[38;5;124m'\u001b[39m\u001b[38;5;132;01m% f\u001b[39;00m\u001b[38;5;124master than average\u001b[39m\u001b[38;5;124m'\u001b[39m)\n",
      "\u001b[1;31mZeroDivisionError\u001b[0m: division by zero"
     ]
    }
   ],
   "source": [
    "winner_qual_ave = []\n",
    "winner_race_ave = []\n",
    "\n",
    "for i in range(30):\n",
    "    empty_list = []\n",
    "    empty_list2 = []\n",
    "    winner_qual_ave.append(empty_list)\n",
    "    winner_race_ave.append(empty_list2)\n",
    "\n",
    "\n",
    "\n",
    "race_index = 1\n",
    "while race_index < len(qual):\n",
    "    error = False\n",
    "    times = []\n",
    "    drivers = []\n",
    "    difference = []\n",
    "    difference_qual = []\n",
    "\n",
    "    race = res[race_index].copy()\n",
    "    q = qual[race_index].copy()\n",
    "\n",
    "\n",
    "    #Remove racers who did not complete race or dont have qualifying times\n",
    "    race = race.sort_values(by=['milliseconds'])\n",
    "    race = race.replace('\\\\N',np.NaN)\n",
    "    q = q.replace('\\\\N',np.NaN)\n",
    "    race = race.dropna(subset=['milliseconds'])\n",
    "    q = q.dropna(subset=['q1'])\n",
    "\n",
    "    #Remove races who are not common in both groups\n",
    "    race_driver = race['driverId']\n",
    "    qual_driver = q['driverId']\n",
    "    for rd in race_driver:\n",
    "        found = False\n",
    "        for qd in qual_driver:\n",
    "            if rd == qd:\n",
    "                found = True\n",
    "        if found == False:\n",
    "            race = race.drop(race[(race.driverId == rd)].index)\n",
    "\n",
    "    race_driver = race['driverId']\n",
    "    qual_driver = q['driverId']\n",
    "    for qd in qual_driver:\n",
    "        found = False\n",
    "        for rd in race_driver:\n",
    "            if rd == qd:\n",
    "                found = True\n",
    "        if found == False:\n",
    "            q = q.drop(q[(q.driverId == qd)].index)\n",
    "\n",
    "\n",
    "    Ids = race['driverId']\n",
    "    seconds = race['milliseconds']\n",
    "\n",
    "    for time in seconds:\n",
    "        times.append(time)\n",
    "\n",
    "    for driver in Ids:\n",
    "        drivers.append(driver)\n",
    "\n",
    "    #Calculate average time for race\n",
    "    try:\n",
    "        total = 0\n",
    "        for time in times:\n",
    "            total = total + int(time)\n",
    "        ave = total / len(times)\n",
    "    except: \n",
    "        error = True\n",
    "    if error == False:\n",
    "        #Find each postions speed difference from the average\n",
    "        for time in times:\n",
    "            time = int(time)\n",
    "            temp = ave - time\n",
    "            temp2 = (time + ave) / 2\n",
    "            dif = (temp / temp2) * 100\n",
    "            difference.append(dif)\n",
    "\n",
    "        qual_ids = q['driverId']\n",
    "        qual_times = q['q1']\n",
    "        qual_times_mil = []\n",
    "        total = 0\n",
    "\n",
    "        #convert times to milliseconds:\n",
    "        for time in qual_times:\n",
    "            total = 0 \n",
    "            time2 =  time.split(\".\")\n",
    "            time = datetime.strptime(time, '%M:%S.%f')\n",
    "            minute = time.minute\n",
    "            second = time.second\n",
    "            mils = time2[1]\n",
    "            total = int(mils)\n",
    "            total = total + (int(second) * 1000)\n",
    "            total = total + (int(minute) * 60000)\n",
    "            qual_times_mil.append(total)\n",
    "\n",
    "\n",
    "        #Calculate average qualifying time\n",
    "        total = 0\n",
    "        for time in qual_times_mil:\n",
    "            total = total + int(time)\n",
    "        ave = total / len(times)    \n",
    "        \n",
    "        #Find difference between each\n",
    "        for time in qual_times_mil:\n",
    "            time = int(time)\n",
    "            temp = ave - time\n",
    "            temp2 = (time + ave) / 2\n",
    "            dif = (temp / temp2) * 100\n",
    "            difference_qual.append(dif)\n",
    "\n",
    "        for place in range(len(Ids)):\n",
    "            #Get the first place winners percentages\n",
    "            race_dif = difference[place]\n",
    "            placeId = Ids.iloc[place]\n",
    "            placeIndex = 0\n",
    "            for i in range(len(Ids)):\n",
    "                if placeId == qual_ids.iloc[i]:\n",
    "                    placeIndex = i\n",
    "            winner_qual = difference_qual[placeIndex]\n",
    "            winner_qual_ave[place].append(winner_qual)\n",
    "            winner_race_ave[place].append(race_dif)\n",
    "\n",
    "    race_index += 1\n",
    "\n",
    "for place in range(30):\n",
    "    print('Qualifying for place ' + str((place + 1)) + \": \" + str(round(sum(winner_qual_ave[place]) / len(winner_qual_ave[place]),3)) + '% faster than average')\n",
    "    print('Race results for place ' + str((place + 1)) + \": \"  + str(round(sum(winner_race_ave[place]) / len(winner_race_ave[place]),3))+'% faster than average')\n",
    "    "
   ]
  },
  {
   "cell_type": "code",
   "execution_count": null,
   "id": "d9f8b500",
   "metadata": {},
   "outputs": [],
   "source": []
  }
 ],
 "metadata": {
  "kernelspec": {
   "display_name": "Python 3 (ipykernel)",
   "language": "python",
   "name": "python3"
  },
  "language_info": {
   "codemirror_mode": {
    "name": "ipython",
    "version": 3
   },
   "file_extension": ".py",
   "mimetype": "text/x-python",
   "name": "python",
   "nbconvert_exporter": "python",
   "pygments_lexer": "ipython3",
   "version": "3.10.8"
  }
 },
 "nbformat": 4,
 "nbformat_minor": 5
}
